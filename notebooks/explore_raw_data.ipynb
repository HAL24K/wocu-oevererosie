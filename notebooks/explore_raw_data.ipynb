{
 "cells": [
  {
   "cell_type": "code",
   "execution_count": null,
   "id": "66746692-8567-4297-b056-56791e089ab1",
   "metadata": {},
   "outputs": [],
   "source": [
    "import sys\n",
    "sys.path.append(\"../\")\n",
    "\n",
    "import src.paths as PATHS\n",
    "import src.constants as CONST\n",
    "\n",
    "import geopandas as gpd\n",
    "import folium"
   ]
  },
  {
   "cell_type": "code",
   "execution_count": null,
   "id": "718fb8d9-3478-43fa-a17a-a0a9ac3377a5",
   "metadata": {},
   "outputs": [],
   "source": [
    "def plot_geodataframe_in_folium(gdf: gpd.GeoDataFrame):\n",
    "    \"\"\"Make a quick map of the geodataframe.\"\"\"\n",
    "    mapa = folium.Map(location=[CONST.CENTRE_NL_LAT, CONST.CENTRE_NL_LON], zoom_start=CONST.DEFAULT_NL_ZOOM, control_scale=True)\n",
    "    folium.GeoJson(gdf.to_crs(epsg=CONST.EPSG_WGS84)).add_to(mapa)\n",
    "\n",
    "    return mapa"
   ]
  },
  {
   "cell_type": "markdown",
   "id": "dec7cac2-3082-4701-ab38-028985190a76",
   "metadata": {},
   "source": [
    "# Relevant floodplains\n",
    "\n",
    "Areas chosen to study the river bank erosion."
   ]
  },
  {
   "cell_type": "code",
   "execution_count": null,
   "id": "95b4ac12-f163-45f6-833f-bedc1ba26abc",
   "metadata": {},
   "outputs": [],
   "source": [
    "areas = gpd.read_file(PATHS.DATA_DIR / \"VO155184_Scope_Pilot_Bankerosion_20241129/VO155184_Scope_Pilot_Bankerosion_20241129.shp\")\n",
    "areas.info()"
   ]
  },
  {
   "cell_type": "code",
   "execution_count": null,
   "id": "961da9bf-a918-4601-87e7-334a408183c5",
   "metadata": {},
   "outputs": [],
   "source": [
    "display(areas)"
   ]
  },
  {
   "cell_type": "code",
   "execution_count": null,
   "id": "d5179141-fdc1-42b1-aa4b-2fc321d12edc",
   "metadata": {},
   "outputs": [],
   "source": [
    "for _, row in areas.iterrows():\n",
    "    print(f\"{row['naam'] + ':':<27} {row['geometry'].area / 1e6:>6.2f}km\\N{SUPERSCRIPT TWO}\")"
   ]
  },
  {
   "cell_type": "code",
   "execution_count": null,
   "id": "c8508cd4-e710-4606-a5a2-f1d392259603",
   "metadata": {},
   "outputs": [],
   "source": [
    "m = plot_geodataframe_in_folium(areas)\n",
    "m"
   ]
  },
  {
   "cell_type": "markdown",
   "id": "815407a9-3e19-4e90-9253-73a3e23e5107",
   "metadata": {},
   "source": [
    "# Etienne's geopackage"
   ]
  },
  {
   "cell_type": "code",
   "execution_count": null,
   "id": "0f488504-39d4-44a1-875d-3609d70383af",
   "metadata": {},
   "outputs": [],
   "source": [
    "geopackage = PATHS.DATA_DIR / \"Levering_erosie_data.gpkg\"\n",
    "\n",
    "gpkg_dict = {}\n",
    "for _, layer_data in gpd.list_layers(geopackage).iterrows():\n",
    "    gpkg_dict[layer_data[\"name\"]] = gpd.read_file(geopackage, layer=layer_data[\"name\"])"
   ]
  },
  {
   "cell_type": "code",
   "execution_count": null,
   "id": "f876bf89-b7ad-4936-a412-b124a23a5f0c",
   "metadata": {},
   "outputs": [],
   "source": [
    "gpkg_dict.keys()"
   ]
  },
  {
   "cell_type": "code",
   "execution_count": null,
   "id": "1cef4ad0-b7fc-4064-8c5f-4769e408ace1",
   "metadata": {},
   "outputs": [],
   "source": [
    "for gdf_name in gpkg_dict:\n",
    "    print(gdf_name)\n",
    "    print(gpkg_dict[gdf_name].crs)\n",
    "    print(gpkg_dict[gdf_name].info())\n",
    "    print()"
   ]
  },
  {
   "cell_type": "code",
   "execution_count": null,
   "id": "b89c428c-83e2-4e8b-83c2-6255c3958193",
   "metadata": {},
   "outputs": [],
   "source": [
    "# create a map showing all the data at one, with turn-offable layers\n",
    "mapa = folium.Map(location=[CONST.CENTRE_NL_LAT, CONST.CENTRE_NL_LON], zoom_start=CONST.DEFAULT_NL_ZOOM, control_scale=True)\n",
    "\n",
    "for layer in gpkg_dict:\n",
    "    fg = folium.FeatureGroup(name=layer, show=False).add_to(mapa)\n",
    "    folium.GeoJson(gpkg_dict[layer][\"geometry\"].to_crs(epsg=CONST.EPSG_WGS84)).add_to(fg)\n",
    "\n",
    "fg = folium.FeatureGroup(name=\"Selected floodplains\", show=False).add_to(mapa)\n",
    "folium.GeoJson(areas.to_crs(epsg=CONST.EPSG_WGS84)).add_to(fg)\n",
    "\n",
    "folium.LayerControl().add_to(mapa)\n",
    "\n",
    "mapa"
   ]
  },
  {
   "cell_type": "markdown",
   "id": "544c21ee-3ab5-4f77-99a6-94bcd62cab33",
   "metadata": {},
   "source": [
    "# Luke's draft oevererosie data"
   ]
  },
  {
   "cell_type": "code",
   "execution_count": null,
   "id": "4a7bfd9d-62dd-469d-b6e2-0e5f30d6cbfb",
   "metadata": {},
   "outputs": [],
   "source": [
    "draft_data = PATHS.DATA_DIR / \"draft_oever_degradation_data.gpkg\"\n",
    "\n",
    "gpkg_dict = {}\n",
    "for _, layer_data in gpd.list_layers(draft_data).iterrows():\n",
    "    gpkg_dict[layer_data[\"name\"]] = gpd.read_file(draft_data, layer=layer_data[\"name\"])"
   ]
  },
  {
   "cell_type": "code",
   "execution_count": null,
   "id": "bd778b81-0483-4233-8c47-d3b0208238c0",
   "metadata": {},
   "outputs": [],
   "source": [
    "gpkg_dict.keys()"
   ]
  },
  {
   "cell_type": "code",
   "execution_count": null,
   "id": "32a075f6-d4de-407f-8b36-5c3a0bd08b49",
   "metadata": {},
   "outputs": [],
   "source": [
    "for gdf_name in gpkg_dict:\n",
    "    print(gdf_name)\n",
    "    print(gpkg_dict[gdf_name].crs)\n",
    "    print(gpkg_dict[gdf_name].info())\n",
    "    print()"
   ]
  },
  {
   "cell_type": "code",
   "execution_count": null,
   "id": "df1fea09-e24f-4a56-9d9a-50bc57f39534",
   "metadata": {},
   "outputs": [],
   "source": [
    "# create a map showing all the data at one, with turn-offable layers\n",
    "mapa = folium.Map(location=[CONST.CENTRE_NL_LAT, CONST.CENTRE_NL_LON], zoom_start=CONST.DEFAULT_NL_ZOOM, control_scale=True)\n",
    "\n",
    "for layer in gpkg_dict:\n",
    "    fg = folium.FeatureGroup(name=layer, show=False).add_to(mapa)\n",
    "    folium.GeoJson(gpkg_dict[layer][\"geometry\"].to_crs(epsg=CONST.EPSG_WGS84)).add_to(fg)\n",
    "\n",
    "fg = folium.FeatureGroup(name=\"Selected floodplains\", show=False).add_to(mapa)\n",
    "folium.GeoJson(areas.to_crs(epsg=CONST.EPSG_WGS84)).add_to(fg)\n",
    "\n",
    "folium.LayerControl().add_to(mapa)\n",
    "\n",
    "mapa"
   ]
  },
  {
   "cell_type": "code",
   "execution_count": null,
   "id": "e599654f-617b-46c6-8ce0-a74759346b59",
   "metadata": {},
   "outputs": [],
   "source": [
    "gpkg_dict[\"vlakken_erosie\"]"
   ]
  },
  {
   "cell_type": "code",
   "execution_count": null,
   "id": "4fdbc453-a163-4fea-8e1d-dc9367b42460",
   "metadata": {},
   "outputs": [],
   "source": [
    "gpkg_dict[\"vlakken_erosie\"][\"location_id\"].value_counts().sort_index()"
   ]
  },
  {
   "cell_type": "code",
   "execution_count": null,
   "id": "7b886b75-2029-4bfe-b700-9de8d81d09be",
   "metadata": {},
   "outputs": [],
   "source": [
    "gpkg_dict[\"vlakken_erosie\"].groupby([\"location_id\", \"ahn_version_before\", \"ahn_version_after\"])[\"area\"].count()"
   ]
  },
  {
   "cell_type": "code",
   "execution_count": null,
   "id": "0c0f49ba-39b1-4aef-93a0-273c75e3256b",
   "metadata": {},
   "outputs": [],
   "source": [
    "gpkg_dict[\"punten_oever\"]"
   ]
  },
  {
   "cell_type": "code",
   "execution_count": null,
   "id": "f52d6a80-9fe1-4e4d-b2b0-9667ef9be8ea",
   "metadata": {},
   "outputs": [],
   "source": [
    "gpkg_dict[\"punten_oever\"][\"location_id\"].value_counts().sort_index()"
   ]
  },
  {
   "cell_type": "markdown",
   "id": "68ac813d-13b5-4590-a14c-d4d3e4acc48f",
   "metadata": {},
   "source": [
    "# Luke's econd draft oevererosie data (21jan2025)"
   ]
  },
  {
   "cell_type": "code",
   "execution_count": null,
   "id": "4df4e633-b7ad-46c2-9b4c-3879d2fa99ef",
   "metadata": {},
   "outputs": [],
   "source": [
    "draft_data = PATHS.DATA_DIR / \"all_results_20250121_v2.gpkg\"\n",
    "\n",
    "gpkg_dict = {}\n",
    "for _, layer_data in gpd.list_layers(draft_data).iterrows():\n",
    "    gpkg_dict[layer_data[\"name\"]] = gpd.read_file(draft_data, layer=layer_data[\"name\"])"
   ]
  },
  {
   "cell_type": "code",
   "execution_count": null,
   "id": "ed014ca5-d5da-4e28-9130-2c70d9c935c1",
   "metadata": {},
   "outputs": [],
   "source": [
    "gpkg_dict.keys()"
   ]
  },
  {
   "cell_type": "code",
   "execution_count": null,
   "id": "5d64c1cd-37c1-496b-891e-819da66cf6a5",
   "metadata": {},
   "outputs": [],
   "source": [
    "for gdf_name in gpkg_dict:\n",
    "    print(gdf_name)\n",
    "    print(gpkg_dict[gdf_name].crs)\n",
    "    print(gpkg_dict[gdf_name].info())\n",
    "    print()"
   ]
  },
  {
   "cell_type": "code",
   "execution_count": null,
   "id": "00b262a1-1d48-448f-9d84-edeee7481693",
   "metadata": {},
   "outputs": [],
   "source": [
    "# create a map showing all the data at one, with turn-offable layers\n",
    "mapa = folium.Map(location=[CONST.CENTRE_NL_LAT, CONST.CENTRE_NL_LON], zoom_start=CONST.DEFAULT_NL_ZOOM, control_scale=True)\n",
    "\n",
    "for layer in gpkg_dict:\n",
    "    fg = folium.FeatureGroup(name=layer, show=False).add_to(mapa)\n",
    "    folium.GeoJson(gpkg_dict[layer][\"geometry\"].to_crs(epsg=CONST.EPSG_WGS84)).add_to(fg)\n",
    "\n",
    "fg = folium.FeatureGroup(name=\"Selected floodplains\", show=False).add_to(mapa)\n",
    "folium.GeoJson(areas.to_crs(epsg=CONST.EPSG_WGS84)).add_to(fg)\n",
    "\n",
    "folium.LayerControl().add_to(mapa)\n",
    "\n",
    "mapa"
   ]
  },
  {
   "cell_type": "code",
   "execution_count": null,
   "id": "1a47ec98-4d08-46c9-82f4-55877697634a",
   "metadata": {},
   "outputs": [],
   "source": [
    "fraction_to_test_data = 0.1  # use 10% of the data in the unit tests\n",
    "random_state = 42  # for reproducibility\n",
    "\n",
    "for key,output_file in zip([\"vlakken_scope\", \"punten_oever\"], [\"prediction_regions_for_tests\", \"river_bank_points_for_tests\"]):\n",
    "    gpkg_dict[key].sample(frac=fraction_to_test_data, random_state=random_state).to_file(f\"../tests/assets/{output_file}.geojson\", driver=\"GeoJSON\")"
   ]
  }
 ],
 "metadata": {
  "kernelspec": {
   "display_name": "wocu-oevererosie",
   "language": "python",
   "name": "wocu-oevererosie"
  },
  "language_info": {
   "codemirror_mode": {
    "name": "ipython",
    "version": 3
   },
   "file_extension": ".py",
   "mimetype": "text/x-python",
   "name": "python",
   "nbconvert_exporter": "python",
   "pygments_lexer": "ipython3",
   "version": "3.12.4"
  }
 },
 "nbformat": 4,
 "nbformat_minor": 5
}
