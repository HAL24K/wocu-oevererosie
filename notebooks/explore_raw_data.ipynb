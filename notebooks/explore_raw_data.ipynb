{
 "cells": [
  {
   "cell_type": "code",
   "execution_count": null,
   "id": "66746692-8567-4297-b056-56791e089ab1",
   "metadata": {},
   "outputs": [],
   "source": [
    "import sys\n",
    "sys.path.append(\"../\")\n",
    "\n",
    "import src.paths as PATHS\n",
    "import src.constants as CONST\n",
    "\n",
    "import geopandas as gpd\n",
    "import folium"
   ]
  },
  {
   "cell_type": "markdown",
   "id": "dec7cac2-3082-4701-ab38-028985190a76",
   "metadata": {},
   "source": [
    "# Relevant floodplains\n",
    "\n",
    "Areas chosen to study the river bank erosion."
   ]
  },
  {
   "cell_type": "code",
   "execution_count": null,
   "id": "95b4ac12-f163-45f6-833f-bedc1ba26abc",
   "metadata": {},
   "outputs": [],
   "source": [
    "areas = gpd.read_file(PATHS.DATA_DIR / \"VO155184_Scope_Pilot_Bankerosion_20241129/VO155184_Scope_Pilot_Bankerosion_20241129.shp\")\n",
    "areas.info()"
   ]
  },
  {
   "cell_type": "code",
   "execution_count": null,
   "id": "961da9bf-a918-4601-87e7-334a408183c5",
   "metadata": {},
   "outputs": [],
   "source": [
    "display(areas)"
   ]
  },
  {
   "cell_type": "code",
   "execution_count": null,
   "id": "d5179141-fdc1-42b1-aa4b-2fc321d12edc",
   "metadata": {},
   "outputs": [],
   "source": [
    "for _, row in areas.iterrows():\n",
    "    print(f\"{row['naam'] + ':':<27} {row['geometry'].area / 1e6:>6.2f}km\\N{SUPERSCRIPT TWO}\")"
   ]
  },
  {
   "cell_type": "code",
   "execution_count": null,
   "id": "c8508cd4-e710-4606-a5a2-f1d392259603",
   "metadata": {},
   "outputs": [],
   "source": [
    "m = folium.Map(location=[CONST.CENTRE_NL_LAT, CONST.CENTRE_NL_LON], zoom_start=CONST.DEFAULT_NL_ZOOM)\n",
    "\n",
    "folium.GeoJson(areas.to_crs(epsg=CONST.EPSG_WGS84)).add_to(m)\n",
    "\n",
    "m"
   ]
  },
  {
   "cell_type": "code",
   "execution_count": null,
   "id": "10c9d143-2e32-4667-a799-e3ce185b4136",
   "metadata": {},
   "outputs": [],
   "source": []
  }
 ],
 "metadata": {
  "kernelspec": {
   "display_name": "wocu-oevererosie",
   "language": "python",
   "name": "wocu-oevererosie"
  },
  "language_info": {
   "codemirror_mode": {
    "name": "ipython",
    "version": 3
   },
   "file_extension": ".py",
   "mimetype": "text/x-python",
   "name": "python",
   "nbconvert_exporter": "python",
   "pygments_lexer": "ipython3",
   "version": "3.12.4"
  }
 },
 "nbformat": 4,
 "nbformat_minor": 5
}
