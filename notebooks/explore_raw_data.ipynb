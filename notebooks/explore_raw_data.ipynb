{
 "cells": [
  {
   "cell_type": "code",
   "execution_count": null,
   "id": "66746692-8567-4297-b056-56791e089ab1",
   "metadata": {},
   "outputs": [],
   "source": [
    "import sys\n",
    "sys.path.append(\"../\")\n",
    "\n",
    "import src.paths as PATHS\n",
    "import src.constants as CONST\n",
    "\n",
    "import geopandas as gpd\n",
    "import folium"
   ]
  },
  {
   "cell_type": "code",
   "execution_count": null,
   "id": "718fb8d9-3478-43fa-a17a-a0a9ac3377a5",
   "metadata": {},
   "outputs": [],
   "source": [
    "def plot_geodataframe_in_folium(gdf: gpd.GeoDataFrame):\n",
    "    \"\"\"Make a quick map of the geodataframe.\"\"\"\n",
    "    mapa = folium.Map(location=[CONST.CENTRE_NL_LAT, CONST.CENTRE_NL_LON], zoom_start=CONST.DEFAULT_NL_ZOOM)\n",
    "    folium.GeoJson(gdf.to_crs(epsg=CONST.EPSG_WGS84)).add_to(mapa)\n",
    "\n",
    "    return mapa"
   ]
  },
  {
   "cell_type": "markdown",
   "id": "dec7cac2-3082-4701-ab38-028985190a76",
   "metadata": {},
   "source": [
    "# Relevant floodplains\n",
    "\n",
    "Areas chosen to study the river bank erosion."
   ]
  },
  {
   "cell_type": "code",
   "execution_count": null,
   "id": "95b4ac12-f163-45f6-833f-bedc1ba26abc",
   "metadata": {},
   "outputs": [],
   "source": [
    "areas = gpd.read_file(PATHS.DATA_DIR / \"VO155184_Scope_Pilot_Bankerosion_20241129/VO155184_Scope_Pilot_Bankerosion_20241129.shp\")\n",
    "areas.info()"
   ]
  },
  {
   "cell_type": "code",
   "execution_count": null,
   "id": "961da9bf-a918-4601-87e7-334a408183c5",
   "metadata": {},
   "outputs": [],
   "source": [
    "display(areas)"
   ]
  },
  {
   "cell_type": "code",
   "execution_count": null,
   "id": "d5179141-fdc1-42b1-aa4b-2fc321d12edc",
   "metadata": {},
   "outputs": [],
   "source": [
    "for _, row in areas.iterrows():\n",
    "    print(f\"{row['naam'] + ':':<27} {row['geometry'].area / 1e6:>6.2f}km\\N{SUPERSCRIPT TWO}\")"
   ]
  },
  {
   "cell_type": "code",
   "execution_count": null,
   "id": "c8508cd4-e710-4606-a5a2-f1d392259603",
   "metadata": {},
   "outputs": [],
   "source": [
    "m = plot_geodataframe_in_folium(areas)\n",
    "m"
   ]
  },
  {
   "cell_type": "markdown",
   "id": "815407a9-3e19-4e90-9253-73a3e23e5107",
   "metadata": {},
   "source": [
    "# Etienne's geopackage"
   ]
  },
  {
   "cell_type": "code",
   "execution_count": null,
   "id": "0f488504-39d4-44a1-875d-3609d70383af",
   "metadata": {},
   "outputs": [],
   "source": [
    "geopackage = PATHS.DATA_DIR / \"Levering_erosie_data.gpkg\"\n",
    "\n",
    "gpkg_dict = {}\n",
    "for _, layer_data in gpd.list_layers(geopackage).iterrows():\n",
    "    gpkg_dict[layer_data[\"name\"]] = gpd.read_file(geopackage, layer=layer_data[\"name\"])"
   ]
  },
  {
   "cell_type": "code",
   "execution_count": null,
   "id": "f876bf89-b7ad-4936-a412-b124a23a5f0c",
   "metadata": {},
   "outputs": [],
   "source": [
    "gpkg_dict.keys()"
   ]
  },
  {
   "cell_type": "code",
   "execution_count": null,
   "id": "1cef4ad0-b7fc-4064-8c5f-4769e408ace1",
   "metadata": {},
   "outputs": [],
   "source": [
    "for gdf_name in gpkg_dict:\n",
    "    print(gdf_name)\n",
    "    print(gpkg_dict[gdf_name].crs)\n",
    "    print(gpkg_dict[gdf_name].info())\n",
    "    print()"
   ]
  },
  {
   "cell_type": "code",
   "execution_count": null,
   "id": "b89c428c-83e2-4e8b-83c2-6255c3958193",
   "metadata": {},
   "outputs": [],
   "source": [
    "# create a map showing all the data at one, with turn-offable layers\n",
    "mapa = folium.Map(location=[CONST.CENTRE_NL_LAT, CONST.CENTRE_NL_LON], zoom_start=CONST.DEFAULT_NL_ZOOM)\n",
    "\n",
    "for layer in gpkg_dict:\n",
    "    fg = folium.FeatureGroup(name=layer, show=False).add_to(mapa)\n",
    "    folium.GeoJson(gpkg_dict[layer][\"geometry\"].to_crs(epsg=CONST.EPSG_WGS84)).add_to(fg)\n",
    "\n",
    "folium.LayerControl().add_to(mapa)\n",
    "\n",
    "mapa"
   ]
  }
 ],
 "metadata": {
  "kernelspec": {
   "display_name": "wocu-oevererosie",
   "language": "python",
   "name": "wocu-oevererosie"
  },
  "language_info": {
   "codemirror_mode": {
    "name": "ipython",
    "version": 3
   },
   "file_extension": ".py",
   "mimetype": "text/x-python",
   "name": "python",
   "nbconvert_exporter": "python",
   "pygments_lexer": "ipython3",
   "version": "3.12.4"
  }
 },
 "nbformat": 4,
 "nbformat_minor": 5
}
