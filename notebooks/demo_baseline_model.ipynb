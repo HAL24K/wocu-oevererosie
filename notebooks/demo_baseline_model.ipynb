{
 "cells": [
  {
   "cell_type": "markdown",
   "id": "788f2575-2da5-429c-9e2d-684241da0734",
   "metadata": {},
   "source": [
    "# Demo of the baseline model"
   ]
  },
  {
   "cell_type": "code",
   "execution_count": null,
   "id": "98adb680-e907-46a1-8ce9-4e54805a758c",
   "metadata": {},
   "outputs": [],
   "source": [
    "import sys\n",
    "sys.path.append(\"../\")\n",
    "\n",
    "import src.paths as PATHS\n",
    "import src.constants as CONST\n",
    "\n",
    "import src.data.data_handler as DH\n",
    "import src.data.config as DATA_CONFIG\n",
    "import src.utils as U\n",
    "\n",
    "import src.model.baseline_model as BM\n",
    "\n",
    "import geopandas as gpd\n",
    "import pandas as pd\n",
    "import folium\n",
    "from folium.plugins import MarkerCluster, TimestampedGeoJson\n",
    "\n",
    "import altair as alt\n",
    "\n",
    "import shapely\n",
    "from shapely.geometry import Polygon, LineString, Point\n",
    "\n",
    "from pprint import pprint"
   ]
  },
  {
   "cell_type": "markdown",
   "id": "e00a4a70-fe18-4ce4-8a95-e27022d8ea93",
   "metadata": {},
   "source": [
    "## 1. Gather all the inputs (normally user provided, or translated from user specifications)"
   ]
  },
  {
   "cell_type": "markdown",
   "id": "ab466aba-546c-4e44-aae2-471d1fbe8d66",
   "metadata": {},
   "source": [
    "### a. Configuration\n",
    "\n",
    "Configuration drives the parameters of the feature creation. This would be a combination of user input (including defaults) and some internal parameters).\n",
    "\n",
    "In the beaseline model case not all parameters are used, e.g. no need to define the remote data sources, as we only need the erosion data. Below we list the parameters relevant to the baseline model, even though we use their default values."
   ]
  },
  {
   "cell_type": "code",
   "execution_count": null,
   "id": "989b003b-2170-4bb6-9667-1fb665d03f6e",
   "metadata": {},
   "outputs": [],
   "source": [
    "# explicitly set the relevant parameters to the defaults, equivalent to running\n",
    "# baseline_configuration = DATA_CONFIG.DataConfiguration()\n",
    "\n",
    "baseline_configuration = DATA_CONFIG.DataConfiguration(\n",
    "    no_of_points_for_distance_calculation=CONST.DEFAULT_NO_OF_POINTS_FOR_DISTANCE_CALCULATION,\n",
    "    prediction_region_id_column_name=CONST.PREDICTION_REGION_ID,\n",
    "    timestamp_column_name=CONST.TIMESTAMP,\n",
    "    use_only_certain_river_bank_points=CONST.DEFAULT_USE_ONLY_CERTAIN_RIVER_BANK_POINTS,\n",
    ")"
   ]
  },
  {
   "cell_type": "code",
   "execution_count": null,
   "id": "95fcb367-f544-408d-a597-67a4e545584b",
   "metadata": {},
   "outputs": [],
   "source": [
    "pprint(baseline_configuration)"
   ]
  },
  {
   "cell_type": "markdown",
   "id": "d510e26d-0893-48aa-a8ac-604ae42961c4",
   "metadata": {},
   "source": [
    "### b. Prediction regions\n",
    "\n",
    "Also called \"scope\" by Luke. A user defined dataset.\n",
    "\n",
    "We have the data locally."
   ]
  },
  {
   "cell_type": "code",
   "execution_count": null,
   "id": "9455a078-ecf9-4bff-bd5f-60f30c12d1ed",
   "metadata": {},
   "outputs": [],
   "source": [
    "luke_geospatial_data = PATHS.DATA_DIR / \"luke_inputs_v3.gpkg\"\n",
    "\n",
    "scope_layer_name = \"vlakken_scope\"\n",
    "prediction_regions = gpd.read_file(luke_geospatial_data, layer=scope_layer_name)"
   ]
  },
  {
   "cell_type": "code",
   "execution_count": null,
   "id": "6bfce1a3-e39e-4312-a4ac-f85ee16c92f2",
   "metadata": {},
   "outputs": [],
   "source": [
    "print(prediction_regions.crs)\n",
    "prediction_regions.info()"
   ]
  },
  {
   "cell_type": "code",
   "execution_count": null,
   "id": "030d8060-c2ce-4dfb-86e2-2539a67d2483",
   "metadata": {},
   "outputs": [],
   "source": [
    "prediction_regions.head()"
   ]
  },
  {
   "cell_type": "markdown",
   "id": "ee99fc63-178a-4e70-9395-c88f9afb509d",
   "metadata": {},
   "source": [
    "### c. The local geospatial enrichment data\n",
    "\n",
    "While we don't actually do any enrichment, we need the river centerline to be able to properly determine which ponts lie beyond the erosion border. Again, a user provided dataset.\n",
    "\n",
    "We also have these locally."
   ]
  },
  {
   "cell_type": "code",
   "execution_count": null,
   "id": "235cbef4-4708-4a82-88eb-ebc7ea476d80",
   "metadata": {},
   "outputs": [],
   "source": [
    "etienne_geospatial_data = PATHS.DATA_DIR / \"Levering_erosie_data.gpkg\"\n",
    "\n",
    "centerline_layer_name = \"Centreline_River\"\n",
    "centerline = gpd.read_file(etienne_geospatial_data, layer=centerline_layer_name)\n",
    "\n",
    "# we need to align all the CRS\n",
    "centerline.to_crs(prediction_regions.crs, inplace=True)\n",
    "\n",
    "# the local geospatial enrichment data is a dictionary of geodataframes\n",
    "# TODO: define this constant better, not via an operation\n",
    "local_geospatial_data = {CONST.AggregationOperations.CENTERLINE_SHAPE.value: centerline}"
   ]
  },
  {
   "cell_type": "code",
   "execution_count": null,
   "id": "16ea546f-116c-4420-a76d-4d2601355a3d",
   "metadata": {},
   "outputs": [],
   "source": [
    "centerline.head()"
   ]
  },
  {
   "cell_type": "markdown",
   "id": "95e36e8a-aec8-4a54-b832-f1e434ede6d2",
   "metadata": {},
   "source": [
    "### d. Erosion data\n",
    "\n",
    "I.e. the points where the river bank was at different times. Used in model training.\n",
    "\n",
    "We also have this locally."
   ]
  },
  {
   "cell_type": "code",
   "execution_count": null,
   "id": "97215573-d5bc-40ff-8182-0ddcad81b210",
   "metadata": {},
   "outputs": [],
   "source": [
    "riverbank_layer_name = \"punten_oever\"\n",
    "river_bank_locations = gpd.read_file(luke_geospatial_data, layer=riverbank_layer_name)\n",
    "\n",
    "river_bank_locations.to_crs(prediction_regions.crs, inplace=True)"
   ]
  },
  {
   "cell_type": "code",
   "execution_count": null,
   "id": "11ba67dc-1ded-4267-9223-735bc24cea88",
   "metadata": {},
   "outputs": [],
   "source": [
    "river_bank_locations.sample(5)"
   ]
  },
  {
   "cell_type": "markdown",
   "id": "516adb34-6259-4b7c-9c53-b21b6371be46",
   "metadata": {},
   "source": [
    "### e. Erosion border\n",
    "\n",
    "This is a line that has to have the right CRS. Can be user provided or internal.\n",
    "\n",
    "We have it locally."
   ]
  },
  {
   "cell_type": "code",
   "execution_count": null,
   "id": "5ad2e61d-2102-46ee-886b-87fb943db2f1",
   "metadata": {},
   "outputs": [],
   "source": [
    "fake_erosion_border = PATHS.DATA_DIR / \"handdrawn_fake_erosion_border.geojson\"\n",
    "\n",
    "erosion_border_gdf = gpd.read_file(fake_erosion_border)\n",
    "erosion_border_gdf.to_crs(prediction_regions.crs, inplace=True)\n",
    "\n",
    "erosion_border = erosion_border_gdf.iloc[0][\"geometry\"]"
   ]
  },
  {
   "cell_type": "code",
   "execution_count": null,
   "id": "02a88084-15ae-4ee5-a4fe-d8ef4a0be0b6",
   "metadata": {},
   "outputs": [],
   "source": [
    "erosion_border"
   ]
  },
  {
   "cell_type": "code",
   "execution_count": null,
   "id": "4ba1c829-0b55-4123-9357-af97806c7c2e",
   "metadata": {},
   "outputs": [],
   "source": [
    "mapa = folium.Map(location=[CONST.CENTRE_NL_LAT, CONST.CENTRE_NL_LON], zoom_start=CONST.DEFAULT_NL_ZOOM, control_scale=True)\n",
    "\n",
    "# scope\n",
    "fg_scope = folium.FeatureGroup(name=\"prediction regions (scope)\", show=False).add_to(mapa)\n",
    "for _, row in prediction_regions.to_crs(epsg=CONST.EPSG_WGS84).iterrows():\n",
    "    polygon = folium.GeoJson(row[\"geometry\"])\n",
    "    folium.Popup(row[CONST.PREDICTION_REGION_ID]).add_to(polygon)\n",
    "    polygon.add_to(fg_scope)\n",
    "\n",
    "# river centerline\n",
    "fg_centerline = folium.FeatureGroup(name=\"river centerline\", show=False).add_to(mapa)\n",
    "folium.GeoJson(centerline[\"geometry\"].to_crs(epsg=CONST.EPSG_WGS84)).add_to(fg_centerline)\n",
    "\n",
    "# river bank locations\n",
    "fg_bank = folium.FeatureGroup(name=\"river bank\", show=False).add_to(mapa)\n",
    "# folium.GeoJson(river_bank_locations[\"geometry\"].to_crs(epsg=CONST.EPSG_WGS84)).add_to(fg_bank)\n",
    "\n",
    "# Add points to the map\n",
    "for idx, row in river_bank_locations.to_crs(epsg=CONST.EPSG_WGS84).iterrows():\n",
    "    folium.CircleMarker(\n",
    "        location=[row.geometry.y, row.geometry.x],\n",
    "        radius = 2,\n",
    "        color=\"blue\" if row[CONST.TIMESTAMP] == 3 else \"orange\",\n",
    "        opacity=0.5,\n",
    "    ).add_to(fg_bank)\n",
    "\n",
    "\n",
    "# erosion border\n",
    "fg_border = folium.FeatureGroup(name=\"erosion border\", show=False).add_to(mapa)\n",
    "folium.GeoJson(erosion_border_gdf[\"geometry\"].to_crs(epsg=CONST.EPSG_WGS84)).add_to(fg_border)\n",
    "\n",
    "folium.LayerControl().add_to(mapa)\n",
    "\n",
    "mapa"
   ]
  },
  {
   "cell_type": "markdown",
   "id": "2877cd3d-4fb2-4b4d-97f8-e01601dc29ca",
   "metadata": {},
   "source": [
    "## 2. Create a prediction model\n",
    "\n",
    "The baseline model averages the changes in the river bank position in time for each region."
   ]
  },
  {
   "cell_type": "code",
   "execution_count": null,
   "id": "ee7057ac-5e7d-434d-a8e8-6186b217ca82",
   "metadata": {},
   "outputs": [],
   "source": [
    "data_handler = DH.DataHandler(\n",
    "    config=baseline_configuration,\n",
    "    prediction_regions=prediction_regions,\n",
    "    local_data_for_enrichment=local_geospatial_data,\n",
    "    erosion_data=river_bank_locations,\n",
    "    erosion_border=erosion_border,\n",
    ")\n",
    "\n",
    "data_handler.process_erosion_features()"
   ]
  },
  {
   "cell_type": "code",
   "execution_count": null,
   "id": "e0d96636-8bda-4753-98b9-caf96de4d884",
   "metadata": {},
   "outputs": [],
   "source": [
    "print(data_handler.processed_erosion_data.shape)\n",
    "data_handler.processed_erosion_data.head()"
   ]
  },
  {
   "cell_type": "code",
   "execution_count": null,
   "id": "c8d90214-7224-4f4a-a5c3-91eb7d814566",
   "metadata": {},
   "outputs": [],
   "source": [
    "baseline_model = BM.BaselineErosionModel(\n",
    "    config=baseline_configuration,\n",
    "    training_data=data_handler.processed_erosion_data,\n",
    "    verbose=True,\n",
    ")\n",
    "\n",
    "baseline_model.train()"
   ]
  },
  {
   "cell_type": "code",
   "execution_count": null,
   "id": "e51e847c-071b-4e69-bd64-7f4e85d229ce",
   "metadata": {},
   "outputs": [],
   "source": [
    "baseline_model.model"
   ]
  },
  {
   "cell_type": "markdown",
   "id": "cf72257a-fd57-4550-9097-aa796f1f561a",
   "metadata": {},
   "source": [
    "## 3. Run and visualize the prediction"
   ]
  },
  {
   "cell_type": "code",
   "execution_count": null,
   "id": "0a24776b-89ad-4520-ace3-4759a9d6412c",
   "metadata": {},
   "outputs": [],
   "source": [
    "data_for_prediction = data_handler.processed_erosion_data.copy()\n",
    "\n",
    "latest_timestamp = data_for_prediction.index.get_level_values(CONST.TIMESTAMP).unique().max()\n",
    "\n",
    "data_for_prediction = data_for_prediction[data_for_prediction.index.get_level_values(CONST.TIMESTAMP) == latest_timestamp]"
   ]
  },
  {
   "cell_type": "code",
   "execution_count": null,
   "id": "5a1663b7-148e-4aa9-8068-b2d29726f7d1",
   "metadata": {},
   "outputs": [],
   "source": [
    "prediction = baseline_model.predict(data_for_prediction, prediction_length=10)\n",
    "\n",
    "prediction"
   ]
  },
  {
   "cell_type": "code",
   "execution_count": null,
   "id": "57743f04-a31d-4ecc-8574-79ded05b3762",
   "metadata": {},
   "outputs": [],
   "source": [
    "def project_scope_onto_erosion_border(scope_polygon: Polygon, erosion_border: LineString) -> LineString:\n",
    "    \"\"\"Get a section of the erosion border that corresponds to the scope polygon onto it.\n",
    "    \n",
    "    :param scope_polygon: polygon within which we predict the bank erosion\n",
    "    :param erosion_border: the erosion border\n",
    "    :returns: a section of the erosion border\n",
    "\n",
    "    NOTE: we assume that the erosion border is generally larger than the scope polygon\n",
    "\n",
    "    TODO: right now this only creates a straight line from one edge point to the other. Instead, do we want this to copy the erosion line or do sth else?\n",
    "    \"\"\"\n",
    "    scope_points = list(scope_polygon.exterior.coords)\n",
    "\n",
    "    projected_distances = []\n",
    "    for scope_point in scope_points:\n",
    "        distance_along_erosion_border = erosion_border.project(Point(scope_point))\n",
    "        projected_distances.append(distance_along_erosion_border)\n",
    "\n",
    "    min_distance = min(projected_distances)\n",
    "    max_distance = max(projected_distances)\n",
    "\n",
    "    starting_point = erosion_border.interpolate(min_distance)\n",
    "    ending_point = erosion_border.interpolate(max_distance)\n",
    "\n",
    "    projection_line = LineString([starting_point, ending_point])\n",
    "\n",
    "    return projection_line\n",
    "\n",
    "\n",
    "def move_projected_scope_to_side(projected_scope: LineString, distance: float, river_centerline: LineString) -> LineString:\n",
    "    \"\"\"Using the distance from the erosion border, get where the projected scope polygon would lie as a surrogate to the river bank.\n",
    "    \n",
    "    :param projected_scope: line that projects the scope polygon onto the erosion border\n",
    "    :param distance: distance between the (predicted) river bank and the erosion border. Positive values are \"good\", the bank being on the correct side, for negative values the river bank went over\n",
    "    :param river_centerline: the centerline to determine the direction of shifting\n",
    "\n",
    "    NOTE: we assume that the projected_scope is a line almost exactly copying the existing erosion_border. Hence, we shift it a bit - say, one metre, assuming it will never cross the river centerline like this,\n",
    "          and if it gets closer to centerline we know this is the direction we should be shifting if the distance is positive.\n",
    "\n",
    "    TODO: can we assume the direction of lines in the data to help with the moving left or right? E.g. if both the river centerline and the erosion border go from upstream down, that might help.\n",
    "    \"\"\"\n",
    "    small_shift = 1  # metre\n",
    "    slightly_shifted_projected_scope = projected_scope.offset_curve(small_shift)\n",
    "\n",
    "    # a small shift by a positive value should move the line closer to the river centerline, otherwise we need to swap the distance\n",
    "    distance_multiplier = 1 if river_centerline.distance(slightly_shifted_projected_scope) < river_centerline.distance(projected_scope) else -1\n",
    "\n",
    "    return projected_scope.offset_curve(distance_multiplier * distance)\n",
    "\n",
    "        "
   ]
  },
  {
   "cell_type": "code",
   "execution_count": null,
   "id": "8a9e431a-ff30-46c9-b20a-40cf6844b299",
   "metadata": {},
   "outputs": [],
   "source": [
    "def process_prediction(prediction_dataframe, measurement_year: int = 2024) -> gpd.GeoDataFrame:\n",
    "    \"\"\"Turn the prediction into a geodataframe.\n",
    "    \n",
    "    TODO: don't assume that we only have a single ahn version\n",
    "    \"\"\"\n",
    "    TIME_COLUMN = \"time_column\"\n",
    "    DISTANCE = \"distance_to_erosion\"\n",
    "    YEAR = \"year\"\n",
    "    TIMESTAMP = \"timestamp\"\n",
    "    \n",
    "    processed_prediction = pd.melt(prediction_dataframe, var_name=TIME_COLUMN, value_name=DISTANCE, ignore_index=False).reset_index().copy()\n",
    "    processed_prediction[YEAR] = processed_prediction[TIME_COLUMN].map(lambda x: int(x.split('_')[-1]) + measurement_year)\n",
    "    processed_prediction[TIMESTAMP] = processed_prediction[YEAR].map(lambda x: f\"{x}-1-1\")\n",
    "    processed_prediction[TIMESTAMP] = pd.to_datetime(processed_prediction[TIMESTAMP])\n",
    "    processed_prediction.drop([CONST.TIMESTAMP, TIME_COLUMN, YEAR], axis=1, inplace=True)\n",
    "\n",
    "    return processed_prediction\n",
    "\n",
    "    "
   ]
  },
  {
   "cell_type": "code",
   "execution_count": null,
   "id": "3139cd91-5013-4a48-8de7-727ca25bb194",
   "metadata": {},
   "outputs": [],
   "source": [
    "processed_prediction = process_prediction(prediction)\n",
    "processed_prediction = processed_prediction.merge(prediction_regions, on=CONST.PREDICTION_REGION_ID)\n",
    "processed_prediction.rename(columns={\"geometry\": \"prediction_region\"}, inplace=True)\n",
    "\n",
    "processed_prediction[\"relevant_centerline\"] = processed_prediction[\"prediction_region\"].map(lambda x: U.get_relevant_centerline(x, centerline))\n",
    "processed_prediction[\"projected_scope\"] = processed_prediction[\"prediction_region\"].map(lambda x: project_scope_onto_erosion_border(x, erosion_border))\n",
    "\n",
    "processed_prediction[\"predicted_riverbank\"] = processed_prediction.apply(lambda x: move_projected_scope_to_side(x[\"projected_scope\"], x[\"distance_to_erosion\"], x[\"relevant_centerline\"]), axis=1)\n",
    "\n",
    "processed_prediction.drop([\"prediction_region\", \"relevant_centerline\", \"projected_scope\"], axis=1, inplace=True)\n",
    "processed_prediction = gpd.GeoDataFrame(processed_prediction, crs=prediction_regions.crs, geometry=\"predicted_riverbank\")\n",
    "                                                                     \n",
    "processed_prediction.head()"
   ]
  },
  {
   "cell_type": "code",
   "execution_count": null,
   "id": "09695369-5569-492b-baf6-a927621e969c",
   "metadata": {},
   "outputs": [],
   "source": [
    "mapa = folium.Map(location=[CONST.CENTRE_NL_LAT, CONST.CENTRE_NL_LON], zoom_start=CONST.DEFAULT_NL_ZOOM, control_scale=True)\n",
    "\n",
    "# predicted_riverbank\n",
    "fg_bank = folium.FeatureGroup(name=\"predicted river bank\", show=False).add_to(mapa)\n",
    "geojson_features = []\n",
    "for _, row in processed_prediction.to_crs(epsg=CONST.EPSG_WGS84).iterrows():\n",
    "    # TODO: lines are not rendered even though this looks exactly like the example in the docs where lines are rendered?!\n",
    "    line = row[\"predicted_riverbank\"].__geo_interface__\n",
    "    line[\"coordinates\"] = [list(a) for a in line['coordinates']]\n",
    "    geojson_features.append({\n",
    "        \"type\": \"Feature\",\n",
    "        \"geometry\": line,\n",
    "        \"properties\": {\n",
    "            \"times\": [row[\"timestamp\"].strftime(\"%Y-%m-%dT%H:%M:%S\")],\n",
    "            \"style\": {\"color\": \"green\" if row[\"distance_to_erosion\"] > 0 else \"red\", \"weight\": 3, \"opacity\":0.6},\n",
    "        },\n",
    "    })\n",
    "\n",
    "geojson_data = {\"type\": \"FeatureCollection\", \"features\": geojson_features}\n",
    "TimestampedGeoJson(\n",
    "    geojson_data,\n",
    "    period=\"P1Y\",\n",
    "    duration=\"P6M\",\n",
    "    transition_time=200,  # Milliseconds between frames\n",
    "    loop=False,            # Loop animation\n",
    "    auto_play=False,      # Start playing automatically\n",
    "    loop_button=True,\n",
    ").add_to(mapa)\n",
    "\n",
    "# erosion border\n",
    "fg_border = folium.FeatureGroup(name=\"erosion border\", show=False).add_to(mapa)\n",
    "folium.GeoJson(erosion_border_gdf[\"geometry\"].to_crs(epsg=CONST.EPSG_WGS84)).add_to(fg_border)\n",
    "\n",
    "# the prediction regions with the predicted river banks\n",
    "fg_scope = folium.FeatureGroup(name=\"prediction regions\", show=True).add_to(mapa)\n",
    "\n",
    "measurement_year = 2024\n",
    "predicted_years = [measurement_year + int(col.split(\"_\")[-1]) for col in prediction.columns]\n",
    "\n",
    "for ind,row in prediction_regions.to_crs(CONST.EPSG_WGS84).iterrows():\n",
    "    predicted_values = prediction[prediction.index.get_level_values(CONST.PREDICTION_REGION_ID) == row[CONST.PREDICTION_REGION_ID]].iloc[0].values\n",
    "    data = pd.DataFrame({\"year\": predicted_years, \"distance to erosion border (m)\": predicted_values})\n",
    "    color = \"orange\" if (data[\"distance to erosion border (m)\"] < 0).any() else \"blue\"\n",
    "\n",
    "    chart = alt.Chart(data, title=row[CONST.PREDICTION_REGION_ID]).mark_line(point=True).encode(x=\"year\", y=\"distance to erosion border (m)\")\n",
    "    horizontal_line = alt.Chart(pd.DataFrame({\"y\": [0]})).mark_rule(strokeDash=[5, 5], color=\"black\").encode(y=\"y\")\n",
    "    chart = chart + horizontal_line\n",
    "    \n",
    "    vega_chart = folium.VegaLite(chart, width=\"100%\", height=\"100%\",)\n",
    "    popup = folium.Popup()\n",
    "    vega_chart.add_to(popup)\n",
    "\n",
    "    shape = shapely.to_geojson(row[\"geometry\"])\n",
    "    \n",
    "    polygon = folium.GeoJson(\n",
    "        row[\"geometry\"],\n",
    "        style_function=lambda feature, color=color:  {\"color\": color, \"fillcolor\": color}\n",
    "    )\n",
    "    popup.add_to(polygon)\n",
    "\n",
    "    polygon.add_to(fg_scope)\n",
    "    \n",
    "\n",
    "folium.LayerControl().add_to(mapa)\n",
    "\n",
    "mapa"
   ]
  }
 ],
 "metadata": {
  "kernelspec": {
   "display_name": "wocu-oevererosie",
   "language": "python",
   "name": "wocu-oevererosie"
  },
  "language_info": {
   "codemirror_mode": {
    "name": "ipython",
    "version": 3
   },
   "file_extension": ".py",
   "mimetype": "text/x-python",
   "name": "python",
   "nbconvert_exporter": "python",
   "pygments_lexer": "ipython3",
   "version": "3.12.4"
  }
 },
 "nbformat": 4,
 "nbformat_minor": 5
}
