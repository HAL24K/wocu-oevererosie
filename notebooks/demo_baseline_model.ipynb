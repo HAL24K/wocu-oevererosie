{
 "cells": [
  {
   "cell_type": "markdown",
   "id": "788f2575-2da5-429c-9e2d-684241da0734",
   "metadata": {},
   "source": [
    "# Demo of the baseline model"
   ]
  },
  {
   "cell_type": "code",
   "execution_count": null,
   "id": "98adb680-e907-46a1-8ce9-4e54805a758c",
   "metadata": {},
   "outputs": [],
   "source": [
    "import sys\n",
    "sys.path.append(\"../\")\n",
    "\n",
    "import src.paths as PATHS\n",
    "import src.constants as CONST\n",
    "\n",
    "import src.data.data_handler as DH\n",
    "import src.data.config as DATA_CONFIG\n",
    "\n",
    "import src.model.baseline_model as BM\n",
    "\n",
    "import geopandas as gpd\n",
    "import folium\n",
    "from folium.plugins import MarkerCluster\n",
    "\n",
    "from pprint import pprint"
   ]
  },
  {
   "cell_type": "markdown",
   "id": "fc70ec3b-0932-4655-95f6-cb9f6c25e218",
   "metadata": {},
   "source": [
    "Needed for the datahandler:\n",
    "1. config (default?)\n",
    "2. prediction regions (scope, geodataframe) from Luke's data\n",
    "3. local data for enrichment (a dict of geodataframes) we need \"centerline shape\" gdf\n",
    "4. erosion data (geodataframe) where the river bank was at different times\n",
    "5. erosion border with the same CRS as the prediction regions"
   ]
  },
  {
   "cell_type": "markdown",
   "id": "e00a4a70-fe18-4ce4-8a95-e27022d8ea93",
   "metadata": {},
   "source": [
    "## 1. Gather all the inputs (normally user provided, or translated from user specifications)"
   ]
  },
  {
   "cell_type": "markdown",
   "id": "ab466aba-546c-4e44-aae2-471d1fbe8d66",
   "metadata": {},
   "source": [
    "### a. Configuration\n",
    "\n",
    "Configuration drives the parameters of the feature creation. This would be a combination of user input (including defaults) and some internal parameters).\n",
    "\n",
    "In the beaseline model case not all parameters are used, e.g. no need to define the remote data sources, as we only need the erosion data. Below we list the parameters relevant to the baseline model, even though we use their default values."
   ]
  },
  {
   "cell_type": "code",
   "execution_count": null,
   "id": "989b003b-2170-4bb6-9667-1fb665d03f6e",
   "metadata": {},
   "outputs": [],
   "source": [
    "# explicitly set the relevant parameters to the defaults, equivalent to running\n",
    "# baseline_configuration = DATA_CONFIG.DataConfiguration()\n",
    "\n",
    "baseline_configuration = DATA_CONFIG.DataConfiguration(\n",
    "    no_of_points_for_distance_calculation=CONST.DEFAULT_NO_OF_POINTS_FOR_DISTANCE_CALCULATION,\n",
    "    prediction_region_id_column_name=CONST.PREDICTION_REGION_ID,\n",
    "    timestamp_column_name=CONST.TIMESTAMP,\n",
    "    use_only_certain_river_bank_points=CONST.DEFAULT_USE_ONLY_CERTAIN_RIVER_BANK_POINTS,\n",
    ")"
   ]
  },
  {
   "cell_type": "code",
   "execution_count": null,
   "id": "95fcb367-f544-408d-a597-67a4e545584b",
   "metadata": {},
   "outputs": [],
   "source": [
    "pprint(baseline_configuration)"
   ]
  },
  {
   "cell_type": "markdown",
   "id": "d510e26d-0893-48aa-a8ac-604ae42961c4",
   "metadata": {},
   "source": [
    "### b. Prediction regions\n",
    "\n",
    "Also called \"scope\" by Luke. A user defined dataset.\n",
    "\n",
    "We have the data locally."
   ]
  },
  {
   "cell_type": "code",
   "execution_count": null,
   "id": "9455a078-ecf9-4bff-bd5f-60f30c12d1ed",
   "metadata": {},
   "outputs": [],
   "source": [
    "luke_geospatial_data = PATHS.DATA_DIR / \"all_results_20250121_v2.gpkg\"\n",
    "\n",
    "scope_layer_name = \"vlakken_scope\"\n",
    "prediction_regions = gpd.read_file(luke_geospatial_data, layer=scope_layer_name)"
   ]
  },
  {
   "cell_type": "code",
   "execution_count": null,
   "id": "6bfce1a3-e39e-4312-a4ac-f85ee16c92f2",
   "metadata": {},
   "outputs": [],
   "source": [
    "print(prediction_regions.crs)\n",
    "prediction_regions.info()"
   ]
  },
  {
   "cell_type": "code",
   "execution_count": null,
   "id": "030d8060-c2ce-4dfb-86e2-2539a67d2483",
   "metadata": {},
   "outputs": [],
   "source": [
    "prediction_regions.head()"
   ]
  },
  {
   "cell_type": "markdown",
   "id": "ee99fc63-178a-4e70-9395-c88f9afb509d",
   "metadata": {},
   "source": [
    "### c. The local geospatial enrichment data\n",
    "\n",
    "While we don't actually do any enrichment, we need the river centerline to be able to properly determine which ponts lie beyond the erosion border. Again, a user provided dataset.\n",
    "\n",
    "We also have these locally."
   ]
  },
  {
   "cell_type": "code",
   "execution_count": null,
   "id": "235cbef4-4708-4a82-88eb-ebc7ea476d80",
   "metadata": {},
   "outputs": [],
   "source": [
    "etienne_geospatial_data = PATHS.DATA_DIR / \"Levering_erosie_data.gpkg\"\n",
    "\n",
    "centerline_layer_name = \"Centreline_River\"\n",
    "centerline = gpd.read_file(etienne_geospatial_data, layer=centerline_layer_name)\n",
    "\n",
    "# we need to align all the CRS\n",
    "centerline.to_crs(prediction_regions.crs, inplace=True)\n",
    "\n",
    "# the local geospatial enrichment data is a dictionary of geodataframes\n",
    "# TODO: define this constant better, not via an operation\n",
    "local_geospatial_data = {CONST.AggregationOperations.CENTERLINE_SHAPE.value: centerline}"
   ]
  },
  {
   "cell_type": "code",
   "execution_count": null,
   "id": "16ea546f-116c-4420-a76d-4d2601355a3d",
   "metadata": {},
   "outputs": [],
   "source": [
    "centerline.head()"
   ]
  },
  {
   "cell_type": "markdown",
   "id": "95e36e8a-aec8-4a54-b832-f1e434ede6d2",
   "metadata": {},
   "source": [
    "### d. Erosion data\n",
    "\n",
    "I.e. the points where the river bank was at different times. Used in model training.\n",
    "\n",
    "We also have this locally."
   ]
  },
  {
   "cell_type": "code",
   "execution_count": null,
   "id": "97215573-d5bc-40ff-8182-0ddcad81b210",
   "metadata": {},
   "outputs": [],
   "source": [
    "riverbank_layer_name = \"punten_oever\"\n",
    "river_bank_locations = gpd.read_file(luke_geospatial_data, layer=riverbank_layer_name)\n",
    "\n",
    "river_bank_locations.to_crs(prediction_regions.crs, inplace=True)"
   ]
  },
  {
   "cell_type": "code",
   "execution_count": null,
   "id": "11ba67dc-1ded-4267-9223-735bc24cea88",
   "metadata": {},
   "outputs": [],
   "source": [
    "river_bank_locations.sample(5)"
   ]
  },
  {
   "cell_type": "markdown",
   "id": "516adb34-6259-4b7c-9c53-b21b6371be46",
   "metadata": {},
   "source": [
    "### e. Erosion border\n",
    "\n",
    "This is a line that has to have the right CRS. Can be user provided or internal.\n",
    "\n",
    "We have it locally."
   ]
  },
  {
   "cell_type": "code",
   "execution_count": null,
   "id": "5ad2e61d-2102-46ee-886b-87fb943db2f1",
   "metadata": {},
   "outputs": [],
   "source": [
    "fake_erosion_border = PATHS.DATA_DIR / \"handdrawn_fake_erosion_border.geojson\"\n",
    "\n",
    "erosion_border_gdf = gpd.read_file(fake_erosion_border)\n",
    "erosion_border_gdf.to_crs(prediction_regions.crs, inplace=True)\n",
    "\n",
    "erosion_border = erosion_border_gdf.iloc[0][\"geometry\"]"
   ]
  },
  {
   "cell_type": "code",
   "execution_count": null,
   "id": "02a88084-15ae-4ee5-a4fe-d8ef4a0be0b6",
   "metadata": {},
   "outputs": [],
   "source": [
    "erosion_border"
   ]
  },
  {
   "cell_type": "code",
   "execution_count": null,
   "id": "4ba1c829-0b55-4123-9357-af97806c7c2e",
   "metadata": {},
   "outputs": [],
   "source": [
    "mapa = folium.Map(location=[CONST.CENTRE_NL_LAT, CONST.CENTRE_NL_LON], zoom_start=CONST.DEFAULT_NL_ZOOM, control_scale=True)\n",
    "\n",
    "# scope\n",
    "fg_scope = folium.FeatureGroup(name=\"prediction regions (scope)\", show=False).add_to(mapa)\n",
    "folium.GeoJson(prediction_regions[\"geometry\"].to_crs(epsg=CONST.EPSG_WGS84)).add_to(fg_scope)\n",
    "\n",
    "# river centerline\n",
    "fg_centerline = folium.FeatureGroup(name=\"river centerline\", show=False).add_to(mapa)\n",
    "folium.GeoJson(centerline[\"geometry\"].to_crs(epsg=CONST.EPSG_WGS84)).add_to(fg_centerline)\n",
    "\n",
    "# river bank locations\n",
    "fg_bank = folium.FeatureGroup(name=\"river bank\", show=False).add_to(mapa)\n",
    "# folium.GeoJson(river_bank_locations[\"geometry\"].to_crs(epsg=CONST.EPSG_WGS84)).add_to(fg_bank)\n",
    "\n",
    "# Add points to the map\n",
    "for idx, row in river_bank_locations.to_crs(epsg=CONST.EPSG_WGS84).iterrows():\n",
    "    folium.CircleMarker(\n",
    "        location=[row.geometry.y, row.geometry.x],\n",
    "        radius = 2,\n",
    "        color=\"blue\" if row[CONST.TIMESTAMP] == 3 else \"orange\",\n",
    "        opacity=0.5,\n",
    "    ).add_to(fg_bank)\n",
    "\n",
    "\n",
    "# erosion border\n",
    "fg_border = folium.FeatureGroup(name=\"erosion border\", show=False).add_to(mapa)\n",
    "folium.GeoJson(erosion_border_gdf[\"geometry\"].to_crs(epsg=CONST.EPSG_WGS84)).add_to(fg_border)\n",
    "\n",
    "folium.LayerControl().add_to(mapa)\n",
    "\n",
    "mapa"
   ]
  },
  {
   "cell_type": "markdown",
   "id": "2877cd3d-4fb2-4b4d-97f8-e01601dc29ca",
   "metadata": {},
   "source": [
    "## 2. Create a prediction model\n",
    "\n",
    "The baseline model averages the changes in the river bank position in time for each region."
   ]
  },
  {
   "cell_type": "code",
   "execution_count": null,
   "id": "ee7057ac-5e7d-434d-a8e8-6186b217ca82",
   "metadata": {},
   "outputs": [],
   "source": [
    "data_handler = DH.DataHandler(\n",
    "    config=baseline_configuration,\n",
    "    prediction_regions=prediction_regions,\n",
    "    local_data_for_enrichment=local_geospatial_data,\n",
    "    erosion_data=river_bank_locations,\n",
    "    erosion_border=erosion_border,\n",
    ")\n",
    "\n",
    "data_handler.process_erosion_features()"
   ]
  },
  {
   "cell_type": "code",
   "execution_count": null,
   "id": "e0d96636-8bda-4753-98b9-caf96de4d884",
   "metadata": {},
   "outputs": [],
   "source": [
    "print(data_handler.processed_erosion_data.shape)\n",
    "data_handler.processed_erosion_data.head()"
   ]
  },
  {
   "cell_type": "code",
   "execution_count": null,
   "id": "c8d90214-7224-4f4a-a5c3-91eb7d814566",
   "metadata": {},
   "outputs": [],
   "source": [
    "baseline_model = BM.BaselineErosionModel(\n",
    "    config=baseline_configuration,\n",
    "    training_data=data_handler.processed_erosion_data,\n",
    "    verbose=True,\n",
    ")\n",
    "\n",
    "baseline_model.train()"
   ]
  },
  {
   "cell_type": "code",
   "execution_count": null,
   "id": "e51e847c-071b-4e69-bd64-7f4e85d229ce",
   "metadata": {},
   "outputs": [],
   "source": [
    "baseline_model.model"
   ]
  },
  {
   "cell_type": "markdown",
   "id": "cf72257a-fd57-4550-9097-aa796f1f561a",
   "metadata": {},
   "source": [
    "## 3. Run and visualize the prediction"
   ]
  },
  {
   "cell_type": "code",
   "execution_count": null,
   "id": "0a24776b-89ad-4520-ace3-4759a9d6412c",
   "metadata": {},
   "outputs": [],
   "source": [
    "data_for_prediction = data_handler.processed_erosion_data.copy()\n",
    "\n",
    "latest_timestamp = data_for_prediction.index.get_level_values(CONST.TIMESTAMP).unique().max()\n",
    "\n",
    "data_for_prediction = data_for_prediction[data_for_prediction.index.get_level_values(CONST.TIMESTAMP) == latest_timestamp]"
   ]
  },
  {
   "cell_type": "code",
   "execution_count": null,
   "id": "5a1663b7-148e-4aa9-8068-b2d29726f7d1",
   "metadata": {},
   "outputs": [],
   "source": [
    "prediction = baseline_model.predict(data_for_prediction, prediction_length=10)\n",
    "\n",
    "prediction"
   ]
  }
 ],
 "metadata": {
  "kernelspec": {
   "display_name": "wocu-oevererosie",
   "language": "python",
   "name": "wocu-oevererosie"
  },
  "language_info": {
   "codemirror_mode": {
    "name": "ipython",
    "version": 3
   },
   "file_extension": ".py",
   "mimetype": "text/x-python",
   "name": "python",
   "nbconvert_exporter": "python",
   "pygments_lexer": "ipython3",
   "version": "3.12.4"
  }
 },
 "nbformat": 4,
 "nbformat_minor": 5
}
